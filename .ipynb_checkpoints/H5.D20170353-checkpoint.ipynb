{
 "cells": [
  {
   "cell_type": "markdown",
   "metadata": {},
   "source": [
    "# Description\n",
    "\n",
    "This week the homework assignment will test your ability to load and manipulate data with Pandas. <br/>\n",
    "The goal is to develop some intuition on how to filter, arrange, and merge data. This will be usefull for the next homework assignments.<br/>\n",
    "Fill the empty cells with your code and deliver a copy of this notebook to Moodle. <br/>\n",
    "This Homework counts 1 point to your final grade.\n",
    "\n",
    "Remember to change the name of the notebook to \"H.<student_id>.ipynb\", replacing <student_id> by your student_id. <br/>"
   ]
  },
  {
   "cell_type": "code",
   "execution_count": 1,
   "metadata": {},
   "outputs": [],
   "source": [
    "import numpy as np\n",
    "import scipy\n",
    "import pandas as pd"
   ]
  },
  {
   "cell_type": "markdown",
   "metadata": {},
   "source": [
    "## Download and Load the World Development Indicators data set\n",
    "\n",
    "We will work with the World Development Indicators data set. <br/> \n",
    "We download this data set from the world bank databank.<br/>\n",
    "Hence, the very first step is to download the data to your computer, you can do this by running the following cell. <br/>\n",
    "Alternatively you can copy and paste the url inside the .get() method into your browser."
   ]
  },
  {
   "cell_type": "code",
   "execution_count": null,
   "metadata": {},
   "outputs": [],
   "source": [
    "# importing libraries\n",
    "import requests, zipfile, io\n",
    "\n",
    "#note this can take several minutes depending on your internet connection\n",
    "r = requests.get('http://databank.worldbank.org/data/download/WDI_csv.zip')\n",
    "z = zipfile.ZipFile(io.BytesIO(r.content))\n",
    "z.extractall()\n",
    "\n",
    "# let us free the variales we used above\n",
    "del z\n",
    "del r"
   ]
  },
  {
   "cell_type": "markdown",
   "metadata": {},
   "source": [
    "The above code downloads a zip archive to the working folder, which by default is the the location of this notebook in your computer. <br/>\n",
    "Secondly, and since the document downloaded is a zip archive, it extracts the documents from the archive. <br/> \n",
    "The contents include multiple .csv files, however we will be working only with the document 'WDIData.csv'. <br/>\n",
    "\n",
    "In the cell bellow, use Pandas to open the file \"WDIData.csv\" and save it to a variable called 'wdi'.<br/>\n",
    "Note you will might need to specify the option enconding, in my case the option \"ISO-8859-1\" worked fine.\n",
    "Find more information at https://pandas.pydata.org/pandas-docs/stable/generated/pandas.read_csv.html"
   ]
  },
  {
   "cell_type": "code",
   "execution_count": 2,
   "metadata": {},
   "outputs": [],
   "source": [
    "wdi = pd.read_csv(\"WDIData.csv\", encoding=\"ISO-8859-1\")"
   ]
  },
  {
   "cell_type": "markdown",
   "metadata": {},
   "source": [
    "## Download and Load the Penn World Table V9.0\n",
    "\n",
    "We will additionally use data from the pwt v9.0 tables. <br/> \n",
    "Again run the following cell to download the dataset. This time using the library urllib."
   ]
  },
  {
   "cell_type": "code",
   "execution_count": null,
   "metadata": {},
   "outputs": [],
   "source": [
    "import urllib\n",
    "urllib.request.urlretrieve(\"https://www.rug.nl/ggdc/docs/pwt90.xlsx\", \"pwt90.xlsx\")"
   ]
  },
  {
   "cell_type": "markdown",
   "metadata": {},
   "source": [
    "In the following cell, open and read the file 'pwt90.xlsx' and save it into variable 'pwt'. <br/>\n",
    "Remember that pandas has a method to read excel files, and secondly we need to specity the sheet we want to load data from."
   ]
  },
  {
   "cell_type": "code",
   "execution_count": 3,
   "metadata": {},
   "outputs": [],
   "source": [
    "pwt = pd.read_excel(\"pwt90.xlsx\", sheet_name=\"Data\")"
   ]
  },
  {
   "cell_type": "markdown",
   "metadata": {},
   "source": [
    "## Data Wrangling\n",
    "\n",
    "Now that we have loaded our data into variable 'wdi', we are ready to start playing with it. <br/>\n",
    "Start by printing all column values in the cell bellow."
   ]
  },
  {
   "cell_type": "code",
   "execution_count": null,
   "metadata": {},
   "outputs": [],
   "source": [
    "print(wdi.columns)"
   ]
  },
  {
   "cell_type": "markdown",
   "metadata": {},
   "source": [
    "Next, list the values in the column 'Country Name'.<br/>\n",
    "You will get a list with repeated values, delete all duplicates to ease your analysis. <br/>\n",
    "\n",
    "Tip: see the method '.drop_duplicates()' https://pandas.pydata.org/pandas-docs/stable/generated/pandas.DataFrame.drop_duplicates.html."
   ]
  },
  {
   "cell_type": "code",
   "execution_count": null,
   "metadata": {
    "scrolled": true
   },
   "outputs": [],
   "source": [
    "wdi['Country Name']\n",
    "wdi.drop_duplicates(['Country Name'])"
   ]
  },
  {
   "cell_type": "markdown",
   "metadata": {},
   "source": [
    "You might notice that while the bottom rows represent Countries, the top rows represent aggregates of countries (e.g., world regions). <br/> However we will be only interested in working with country-level data, and as such we need to filter out all unecessary rows."
   ]
  },
  {
   "cell_type": "markdown",
   "metadata": {},
   "source": [
    "Save all the values of column 'Country Name' in variable 'cnames'. <br/>\n",
    "Delete all duplicate values.<br>\n",
    "Print the first 50 values in cnames (remember you can use slice here)."
   ]
  },
  {
   "cell_type": "code",
   "execution_count": null,
   "metadata": {},
   "outputs": [],
   "source": [
    "cnames = wdi['Country Name']\n",
    "cnames = cnames.drop_duplicates()"
   ]
  },
  {
   "cell_type": "code",
   "execution_count": null,
   "metadata": {},
   "outputs": [],
   "source": [
    "cnames[0:51]"
   ]
  },
  {
   "cell_type": "markdown",
   "metadata": {},
   "source": [
    "You can verify, that the first 48 values in cnames 'Country Name' do not correspond to countries, but aggregates.<br/>\n",
    "In the next cell filter out, from 'wdi', rows in which 'Country Name' represents an aggregate of countries.<br/>\n",
    "\n",
    "Tip1 : You can use the negation of .isin() to perform a boolean filter over the rows of the DataFrame, see an example at  https://erikrood.com/Python_References/rows_cols_python.html <br/>\n",
    "Tip2 : You can also perform this action by slicing out all rows unecessary rows."
   ]
  },
  {
   "cell_type": "code",
   "execution_count": null,
   "metadata": {},
   "outputs": [],
   "source": [
    "wdi = wdi.loc[~wdi['Country Name'].isin(cnames[0:47])]"
   ]
  },
  {
   "cell_type": "markdown",
   "metadata": {},
   "source": [
    "Reset the indexes of 'wdi', you can use the method reset_index(), see https://pandas.pydata.org/pandas-docs/stable/generated/pandas.DataFrame.reset_index.html.\n",
    "<br/> Perform this operation In Place."
   ]
  },
  {
   "cell_type": "code",
   "execution_count": null,
   "metadata": {},
   "outputs": [],
   "source": [
    "wdi.reset_index(inplace = True)"
   ]
  },
  {
   "cell_type": "markdown",
   "metadata": {},
   "source": [
    "Show that the indexes have been reseted."
   ]
  },
  {
   "cell_type": "code",
   "execution_count": null,
   "metadata": {
    "scrolled": true
   },
   "outputs": [],
   "source": [
    "wdi"
   ]
  },
  {
   "cell_type": "markdown",
   "metadata": {},
   "source": [
    "Note that when reseting the index, pandas appends a new column at the begining of the data frame, which holds the previous index values. <br/>"
   ]
  },
  {
   "cell_type": "markdown",
   "metadata": {},
   "source": [
    "## Indicator Codes and Indicator Name\n",
    "\n",
    "Select the columns 'Indicator Name' and 'Indicator Code'.<br/> \n",
    "Delete all duplicates, and then Print the top 5 and bottom 5 values. <br/>\n",
    "Tip: You should be able to do everything in a single line of code."
   ]
  },
  {
   "cell_type": "code",
   "execution_count": null,
   "metadata": {
    "scrolled": true
   },
   "outputs": [],
   "source": [
    "wdi[['Indicator Name','Indicator Code']].drop_duplicates().head()"
   ]
  },
  {
   "cell_type": "code",
   "execution_count": null,
   "metadata": {},
   "outputs": [],
   "source": [
    "wdi[['Indicator Name','Indicator Code']].drop_duplicates().tail()"
   ]
  },
  {
   "cell_type": "markdown",
   "metadata": {},
   "source": [
    "Create a new DataFrame named 'indicators' made up of the columns 'Indicator Name' and 'Indicator Code'.<br/>\n",
    "Delete all duplicated entries. <br/> \n",
    "Set the column 'Indicator Code' as the index of 'indicators'. <br/> \n",
    "The ouput should be a DataFrame with 1440 rows. <br/>\n",
    "Try to perform all these steps in a single line of code."
   ]
  },
  {
   "cell_type": "code",
   "execution_count": null,
   "metadata": {},
   "outputs": [],
   "source": [
    "indicators = ((wdi[['Indicator Name','Indicator Code']]).drop_duplicates()).set_index(['Indicator Code'])"
   ]
  },
  {
   "cell_type": "markdown",
   "metadata": {},
   "source": [
    "The 'indicators' DataFrame can operate now as a dictionary. <br/> \n",
    "By passing an 'Indicator Code' (key) it returns the associated 'Indicator Name' (value).<br/>\n",
    "\n",
    "Using 'indicators' DataFrame, find the 'Indicator Code' associated with the following observables:\n",
    "1. 'Population', find the 'Indicator Code' of the total population in a country;\n",
    "2. 'GDP', find the GDP measured in current US Dollars;\n",
    "3. 'GINI index'\n",
    "\n",
    "Tip1: You can use the method STRING.str.contains('substring') to check whether a string contains a substring, also note that the match is case sensitive."
   ]
  },
  {
   "cell_type": "code",
   "execution_count": 1,
   "metadata": {},
   "outputs": [
    {
     "ename": "NameError",
     "evalue": "name 'indicators' is not defined",
     "output_type": "error",
     "traceback": [
      "\u001b[0;31m---------------------------------------------------------------------------\u001b[0m",
      "\u001b[0;31mNameError\u001b[0m                                 Traceback (most recent call last)",
      "\u001b[0;32m<ipython-input-1-1135edea2516>\u001b[0m in \u001b[0;36m<module>\u001b[0;34m()\u001b[0m\n\u001b[0;32m----> 1\u001b[0;31m \u001b[0mindicators\u001b[0m\u001b[0;34m[\u001b[0m\u001b[0mindicators\u001b[0m\u001b[0;34m[\u001b[0m\u001b[0;34m'Indicator Name'\u001b[0m\u001b[0;34m]\u001b[0m\u001b[0;34m.\u001b[0m\u001b[0mstr\u001b[0m\u001b[0;34m.\u001b[0m\u001b[0mcontains\u001b[0m\u001b[0;34m(\u001b[0m\u001b[0;34m'Population, total'\u001b[0m\u001b[0;34m)\u001b[0m\u001b[0;34m]\u001b[0m\u001b[0;34m\u001b[0m\u001b[0m\n\u001b[0m",
      "\u001b[0;31mNameError\u001b[0m: name 'indicators' is not defined"
     ]
    }
   ],
   "source": [
    "indicators[indicators['Indicator Name'].str.contains('Population, total')]"
   ]
  },
  {
   "cell_type": "code",
   "execution_count": null,
   "metadata": {},
   "outputs": [],
   "source": [
    "pd.set_option('display.max_rows', 500)\n",
    "indicators[indicators['Indicator Name'].str.contains(\"GDP\")]"
   ]
  },
  {
   "cell_type": "code",
   "execution_count": null,
   "metadata": {},
   "outputs": [],
   "source": [
    "indicators[indicators['Indicator Name'].str.contains('GINI index')]"
   ]
  },
  {
   "cell_type": "markdown",
   "metadata": {},
   "source": [
    "## Extracting and Cleaning data from WDI and PWT\n",
    "\n",
    "From 'wdi' extract the columns 'Indicator Code', 'Country Code', and '2002'.\n",
    "Save the output in variable 'wdi_sample'\n",
    "\n",
    "Tip1: You should be able to perfom all operations in a single line of code. <br/>\n",
    "Tip2: Use the method .loc\\[\\] to extract a row with a specified index value, see https://pandas.pydata.org/pandas-docs/stable/generated/pandas.DataFrame.loc.html."
   ]
  },
  {
   "cell_type": "code",
   "execution_count": null,
   "metadata": {},
   "outputs": [],
   "source": [
    "wdi_sample = wdi[['Indicator Code', 'Country Code', '2002']]"
   ]
  },
  {
   "cell_type": "markdown",
   "metadata": {},
   "source": [
    "Select from 'wdi_sample' the lines associated with all the Indicator Codes that you found above, which concern the data of the 'GINI index', 'GDP', and 'Population total'."
   ]
  },
  {
   "cell_type": "code",
   "execution_count": null,
   "metadata": {},
   "outputs": [],
   "source": [
    "print(wdi_sample.loc[wdi_sample['Indicator Code'].isin(['SI.POV.GINI','SP.POP.TOTL','NY.GDP.MKTP.CD'])])"
   ]
  },
  {
   "cell_type": "code",
   "execution_count": null,
   "metadata": {},
   "outputs": [],
   "source": [
    "wdi_sample = wdi_sample.loc[wdi_sample['Indicator Code'].isin(['SI.POV.GINI','SP.POP.TOTL','NY.GDP.MKTP.CD'])]"
   ]
  },
  {
   "cell_type": "markdown",
   "metadata": {},
   "source": [
    "Create a pivot table, in which values are the column '2002', the index is the 'Country Code', and the columns are the Indicator Codes. <br/>\n",
    "\n",
    "You can use the function pivot_table() from Pandas, see http://pandas.pydata.org/pandas-docs/stable/generated/pandas.pivot_table.html."
   ]
  },
  {
   "cell_type": "code",
   "execution_count": null,
   "metadata": {
    "scrolled": true
   },
   "outputs": [],
   "source": [
    "wdi_sample = wdi_sample.pivot_table(values='2002',index='Country Code', columns='Indicator Code')"
   ]
  },
  {
   "cell_type": "markdown",
   "metadata": {},
   "source": [
    "Rename the column names of wdi_sample to 'Population', 'GDP', and 'GINI', accordingly."
   ]
  },
  {
   "cell_type": "code",
   "execution_count": null,
   "metadata": {},
   "outputs": [],
   "source": [
    "wdi_sample.columns = ['GDP', 'GINI', 'Population']"
   ]
  },
  {
   "cell_type": "markdown",
   "metadata": {},
   "source": [
    "From 'pwt' select only the values of the year 2002. <br/>\n",
    "Then, extract the columns 'countrycode' and 'hc' into a new variable 'pwt_sample'. <br/>\n",
    "Rename 'countrycode' to 'Country Code', so that it matches the same column in 'wdi_sample'<br/>\n",
    "Note that here 'hc' stands for the Human Capital Index.<br/>"
   ]
  },
  {
   "cell_type": "code",
   "execution_count": null,
   "metadata": {},
   "outputs": [],
   "source": [
    "pwt_sample =  pwt.loc[pwt['year'] == 2002][['countrycode','hc']].rename(columns={'countrycode': 'Country Code'})"
   ]
  },
  {
   "cell_type": "markdown",
   "metadata": {},
   "source": [
    "Finally, create a new dataframe named 'data' that contains the columns from wdi_sample and pwt_sample, matched by 'Country Code'. Use the method concat(), and make sure both dataframes have the same index ('Country Code')."
   ]
  },
  {
   "cell_type": "code",
   "execution_count": null,
   "metadata": {},
   "outputs": [],
   "source": [
    "data = pd.concat([pwt_sample.set_index('Country Code'), wdi_sample], axis = 1)"
   ]
  },
  {
   "cell_type": "markdown",
   "metadata": {},
   "source": [
    "Consider the data for the year 2002 that you have prepared above. Perform the necessary data manipulations to answer the following questions:\n",
    "\n",
    "1. Which countries have a population size of 10 million habitations +/- 1 million?\n",
    "2. What is the average and the standard deviation in GDP of countries listed in 1?\n",
    "3. What is the average and the standard deviation in the GDP of countries NOT listed in 1?\n",
    "4. Repeat point 2 and 3 but for the GDP per capita.\n",
    "5. What is the Country with the highest Human Capital (hc in the PWT tables)?\n",
    "6. What is the Country with the Lowest Human Capital (hc in the PWT tables)?\n",
    "\n",
    "Write the necessary code to obtain the answer to each question in a single cell. <br/>\n",
    "Print the answer at the end of that cell."
   ]
  },
  {
   "cell_type": "code",
   "execution_count": null,
   "metadata": {},
   "outputs": [],
   "source": [
    "data = data.reset_index()\n",
    "data.rename(columns={'index':'Country'}, inplace=True)\n",
    "Q1 = data.loc[(data['Population'] >= 9.000000) & (data['Population'] <= 11.000000), 'Country']\n",
    "print(Q1)"
   ]
  },
  {
   "cell_type": "code",
   "execution_count": null,
   "metadata": {},
   "outputs": [],
   "source": [
    "mean_Q1 = (data.loc[data['Country'].isin(Q1)])[\"GDP\"].mean()\n",
    "std_Q1 = (data.loc[data['Country'].isin(Q1)])[\"GDP\"].std()\n",
    "print(\"The average is \",mean_Q1, \"and the standard deviation is \", std_Q1)"
   ]
  },
  {
   "cell_type": "code",
   "execution_count": null,
   "metadata": {},
   "outputs": [],
   "source": [
    "mean_Q3 = (data.loc[~data['Country'].isin(Q1)])[\"GDP\"].mean()\n",
    "std_Q3 = (data.loc[~data['Country'].isin(Q1)])[\"GDP\"].std()\n",
    "print(\"The average is \",mean_Q3, \"and the standard deviation is \", std_Q3)"
   ]
  },
  {
   "cell_type": "code",
   "execution_count": null,
   "metadata": {},
   "outputs": [],
   "source": [
    "mean_Q4_in = ((data.loc[data['Country'].isin(Q1)])[\"GDP\"] / (data.loc[data['Country'].isin(Q1)])[\"Population\"]).mean()\n",
    "std_Q4_in = ((data.loc[data['Country'].isin(Q1)])[\"GDP\"] / (data.loc[data['Country'].isin(Q1)])[\"Population\"]).std()\n",
    "mean_Q4_out = ((data.loc[~data['Country'].isin(Q1)])[\"GDP\"] / (data.loc[~data['Country'].isin(Q1)])[\"Population\"]).mean()\n",
    "std_Q4_out = ((data.loc[~data['Country'].isin(Q1)])[\"GDP\"] / (data.loc[~data['Country'].isin(Q1)])[\"Population\"]).std()\n",
    "print(mean_Q4_in,std_Q4_in, mean_Q4_out, std_Q4_out)"
   ]
  },
  {
   "cell_type": "code",
   "execution_count": null,
   "metadata": {},
   "outputs": [],
   "source": [
    "print(data[['Country']][data.hc == data.hc.max()])"
   ]
  },
  {
   "cell_type": "code",
   "execution_count": null,
   "metadata": {},
   "outputs": [],
   "source": [
    "print(data[['Country']][data.hc == data.hc.min()])"
   ]
  }
 ],
 "metadata": {
  "kernelspec": {
   "display_name": "Python 3",
   "language": "python",
   "name": "python3"
  },
  "language_info": {
   "codemirror_mode": {
    "name": "ipython",
    "version": 3
   },
   "file_extension": ".py",
   "mimetype": "text/x-python",
   "name": "python",
   "nbconvert_exporter": "python",
   "pygments_lexer": "ipython3",
   "version": "3.6.5"
  }
 },
 "nbformat": 4,
 "nbformat_minor": 2
}
