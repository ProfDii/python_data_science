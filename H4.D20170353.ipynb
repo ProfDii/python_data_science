{
 "cells": [
  {
   "cell_type": "markdown",
   "metadata": {},
   "source": [
    "# Homework Assignment 4\n",
    "\n",
    "## Description\n",
    "\n",
    "This week the homework will test your ability to use numpy and scipy for the manipulation of numerical data and statistical analysis. This assignment is made of two parts and counts 1.0 points towards the final grade.\n",
    "\n",
    "## Assignment\n",
    "\n",
    "Change the name of this notebook to “H4.\\<id\\>”, replacing \\<id\\> by your student id. Perform the steps of each part, each step should correspond to a different cell in your notebook. Don’t forget to properly comment and document all your code."
   ]
  },
  {
   "cell_type": "code",
   "execution_count": 1,
   "metadata": {},
   "outputs": [],
   "source": [
    "import numpy as np\n",
    "import scipy as sp\n",
    "import scipy.stats as stats"
   ]
  },
  {
   "cell_type": "markdown",
   "metadata": {},
   "source": [
    "### Part I – Numpy Operations (0.2 points)\n",
    "\n",
    "In the following cell create a 5x5 numpy array (i.e. five rows and five columns) filled with random numbers ranging between -10 and 10. Use the numpy random module. Values should be of type float32 rounded to the second decimal digit. <br/>\n",
    "Save this array in variable M1;"
   ]
  },
  {
   "cell_type": "code",
   "execution_count": 2,
   "metadata": {},
   "outputs": [],
   "source": [
    "# We are making use of the uniform method of the random function to draw random samples from -10 to 10 from a uniform distribution.\n",
    "# we are also making use of the \"round\" function to round the samples to 2 decimal places\n",
    "# We are using the \"astype\" function to convert the random samples to type float32\n",
    "M1 = (np.round((np.random.uniform(low=-10, high=10, size=(5,5))),2)).astype(np.float32)"
   ]
  },
  {
   "cell_type": "markdown",
   "metadata": {},
   "source": [
    "Show that all values in M1 are of the expected data type"
   ]
  },
  {
   "cell_type": "code",
   "execution_count": 3,
   "metadata": {},
   "outputs": [
    {
     "data": {
      "text/plain": [
       "dtype('float32')"
      ]
     },
     "execution_count": 3,
     "metadata": {},
     "output_type": "execute_result"
    }
   ],
   "source": [
    "# to print the data type of array M\n",
    "M1.dtype"
   ]
  },
  {
   "cell_type": "markdown",
   "metadata": {},
   "source": [
    "Using the slice operators print the 2x2 array that corresponds to the elements in 3rd and 4th rows and the 2nd and 3rd columns of M1"
   ]
  },
  {
   "cell_type": "code",
   "execution_count": 4,
   "metadata": {},
   "outputs": [
    {
     "data": {
      "text/plain": [
       "array([[-3.89, -6.8 ],\n",
       "       [ 2.92,  4.04]], dtype=float32)"
      ]
     },
     "execution_count": 4,
     "metadata": {},
     "output_type": "execute_result"
    }
   ],
   "source": [
    "# slicing elements from the 3rd and 4th ros and 2nd and 3rd columns of array M\n",
    "M1[2:4,1:3]"
   ]
  },
  {
   "cell_type": "markdown",
   "metadata": {},
   "source": [
    "Extract from M1 the elements from the 4th row and save it in variable v1"
   ]
  },
  {
   "cell_type": "code",
   "execution_count": 5,
   "metadata": {},
   "outputs": [],
   "source": [
    "v1 = M1[3,:]"
   ]
  },
  {
   "cell_type": "markdown",
   "metadata": {},
   "source": [
    "Extract from M1 the elements from the 4th column and save it in variable v2"
   ]
  },
  {
   "cell_type": "code",
   "execution_count": 6,
   "metadata": {},
   "outputs": [],
   "source": [
    "v2 = M1[:,3]"
   ]
  },
  {
   "cell_type": "markdown",
   "metadata": {},
   "source": [
    "Compute, and print, the outer product between v1 and v2 using Numpy"
   ]
  },
  {
   "cell_type": "code",
   "execution_count": 7,
   "metadata": {},
   "outputs": [
    {
     "data": {
      "text/plain": [
       "array([[-16.056002 ,  23.013601 ,  25.2213   , -51.914402 , -62.6853   ],\n",
       "       [  7.0080004, -10.044801 , -11.0084   ,  22.6592   ,  27.360401 ],\n",
       "       [  9.696    , -13.8976   , -15.2308   ,  31.3504   ,  37.854797 ],\n",
       "       [ 18.624    , -26.6944   , -29.255201 ,  60.2176   ,  72.711205 ],\n",
       "       [-16.536001 ,  23.7016   ,  25.9753   , -53.4664   , -64.559296 ]],\n",
       "      dtype=float32)"
      ]
     },
     "execution_count": 7,
     "metadata": {},
     "output_type": "execute_result"
    }
   ],
   "source": [
    "# computing the outer product of v1 and v2\n",
    "np.outer(v1,v2)"
   ]
  },
  {
   "cell_type": "markdown",
   "metadata": {},
   "source": [
    "Compute the inner product between v2 and v1 Numpy"
   ]
  },
  {
   "cell_type": "code",
   "execution_count": 8,
   "metadata": {},
   "outputs": [
    {
     "data": {
      "text/plain": [
       "-45.6733"
      ]
     },
     "execution_count": 8,
     "metadata": {},
     "output_type": "execute_result"
    }
   ],
   "source": [
    "# dot product between arrays v2 and v1 using numpy's inner function\n",
    "np.inner(v2,v1)"
   ]
  },
  {
   "cell_type": "markdown",
   "metadata": {},
   "source": [
    "Find the eigenvectors and eigenvalues of matrix M1, use the Scipy linear algebra module."
   ]
  },
  {
   "cell_type": "code",
   "execution_count": 9,
   "metadata": {},
   "outputs": [
    {
     "data": {
      "text/plain": [
       "(array([-4.0457807+10.053348j , -4.0457807-10.053348j ,\n",
       "         4.2946296 +4.1944103j,  4.2946296 -4.1944103j,\n",
       "         4.1723027 +0.j       ], dtype=complex64),\n",
       " array([[-0.01804044+0.05617191j, -0.01804044-0.05617191j,\n",
       "          0.06329444-0.10247278j,  0.06329444+0.10247278j,\n",
       "         -0.06303056+0.j        ],\n",
       "        [ 0.67871124+0.j        ,  0.67871124-0.j        ,\n",
       "          0.45539832-0.29489744j,  0.45539832+0.29489744j,\n",
       "          0.62846565+0.j        ],\n",
       "        [ 0.30820283+0.37933955j,  0.30820283-0.37933955j,\n",
       "          0.27083126-0.06542697j,  0.27083126+0.06542697j,\n",
       "          0.31591478+0.j        ],\n",
       "        [-0.29061013-0.09912955j, -0.29061013+0.09912955j,\n",
       "          0.2201368 +0.39338556j,  0.2201368 -0.39338556j,\n",
       "          0.2711901 +0.j        ],\n",
       "        [-0.1567194 +0.42206746j, -0.1567194 -0.42206746j,\n",
       "          0.64054537+0.j        ,  0.64054537-0.j        ,\n",
       "          0.6539968 +0.j        ]], dtype=complex64))"
      ]
     },
     "execution_count": 9,
     "metadata": {},
     "output_type": "execute_result"
    }
   ],
   "source": [
    "np.linalg.eig(M1)"
   ]
  },
  {
   "cell_type": "markdown",
   "metadata": {},
   "source": [
    "## Part II - Independent two-sample t-test (0.8 points)\n",
    "\n",
    "In this part we will perform a $t$-test to determine whether there is a significant difference between the means of two groups. In this exercise, these groups will correspond to two sampled data sets from pre-defined probability distributions. <br/>\n",
    "\n",
    "Since we have two groups of data, we will focus on the particular case of an <i>independent two-sample t-test</i>. The significance of this approach requires our data to fullfill two assumptions: 1) they have the same length/size ($n_1 = n_2 = n$); and 2) that they were sampled from normal distributions with the same variance ($\\sigma^2_1 = \\sigma^2_2$). <br/>\n",
    "Note that there are extensions of the t-test that relax these assumptions, but that discussion is out of scope of this week homework. <br/>\n",
    "\n",
    "Our null-hypothesis, the one we will try to falsify, is that the data was sampled from the same distribution. Hence, given our assumption that both groups are normal and have the same variance, we expect that the difference between the means to be zero, or close to zero. <br/>"
   ]
  },
  {
   "cell_type": "markdown",
   "metadata": {},
   "source": [
    "To perform the <i>independent two-sample t-test</i> we need first to compute the t-statistics ($t$), which is given by:\n",
    "\n",
    "\\begin{equation}\n",
    "    t = \\frac{m_1 - m_2}{\\sqrt{\\frac{\\sigma_1^2}{n}+\\frac{\\sigma_2^2}{n}}}\n",
    "\\end{equation}\n",
    "\n",
    "where $\\sigma_1$ and $\\sigma_2$ is, respectively, the standard deviation of the first and second data groups; $n$ is the group size (recall that, $n_1 = n_2 = n$). Remember that the formula to compute the standard deviation ($\\sigma$) is given by:\n",
    "\n",
    "\\begin{equation}\n",
    "    \\sigma_i^2 = \\frac{\\sum(x-m_i)^2}{n_i-1}\n",
    "\\end{equation}\n",
    "\n",
    "where the sum goes over all sampled points. To correctly compute the standard deviation we need to divide by the effective number of degrees of freedom ($n_i -1$), where $1$ are the so called Delta Degrees of Freedom."
   ]
  },
  {
   "cell_type": "markdown",
   "metadata": {},
   "source": [
    "Start by creating two one dimension ndarray filled with $n$ random numbers sampled from a Normal/Gaussian Distribution with mean $m$ and standard deviation sigma. Use the module stats from the Scipy library to achieve this. Crate two samples (i.e. two arrays) of size 50 ($n$) with different means (e.g., 0.72 and 0.48) and the same standard deviation of 1.0. Save these samples in variables d1 and d2.<br/><br/>\n",
    "Recall that you can use the method norm.rvs() from Scipy stats module to sample random numbers from a normal distribution (see the documentation at https://tinyurl.com/yd9z99fq to check how to pass arguments to obtain a sample from a normal distribution with the desired mean and standard deviation)."
   ]
  },
  {
   "cell_type": "code",
   "execution_count": 10,
   "metadata": {},
   "outputs": [],
   "source": [
    "# sampling random numbers with a mean of 0.72 and standard deviation of 1.0\n",
    "d1 = stats.norm.rvs(loc=0.72, scale=1.0, size=50)"
   ]
  },
  {
   "cell_type": "code",
   "execution_count": 11,
   "metadata": {},
   "outputs": [],
   "source": [
    "# sampling random numbers with mean of 0.48 and standard deviation of 1.0\n",
    "d2 = stats.norm.rvs(loc=0.48, scale=1.0, size=50)"
   ]
  },
  {
   "cell_type": "markdown",
   "metadata": {},
   "source": [
    "Assign to variables m1 and m2 the means of d1 and d2, respectively. Use the methods already included with numpy array."
   ]
  },
  {
   "cell_type": "code",
   "execution_count": 12,
   "metadata": {},
   "outputs": [
    {
     "name": "stdout",
     "output_type": "stream",
     "text": [
      "0.6663545615575616\n"
     ]
    }
   ],
   "source": [
    "# finding the average of numbers in d1\n",
    "m1 = np.mean(d1)\n",
    "print(m1)"
   ]
  },
  {
   "cell_type": "code",
   "execution_count": 13,
   "metadata": {},
   "outputs": [
    {
     "name": "stdout",
     "output_type": "stream",
     "text": [
      "0.6245511783899523\n"
     ]
    }
   ],
   "source": [
    "# finding the average of numbers in d2\n",
    "m2 = np.mean(d2)\n",
    "print(m2)"
   ]
  },
  {
   "cell_type": "markdown",
   "metadata": {},
   "source": [
    "Compute the length of each sample and save it in n"
   ]
  },
  {
   "cell_type": "code",
   "execution_count": 14,
   "metadata": {},
   "outputs": [
    {
     "name": "stdout",
     "output_type": "stream",
     "text": [
      "50\n"
     ]
    }
   ],
   "source": [
    "# finding the number of elements in array d1\n",
    "n1 = len(d1)\n",
    "print(n1)"
   ]
  },
  {
   "cell_type": "code",
   "execution_count": 15,
   "metadata": {},
   "outputs": [
    {
     "name": "stdout",
     "output_type": "stream",
     "text": [
      "50\n"
     ]
    }
   ],
   "source": [
    "# finding the number of elements in array d2\n",
    "n2 = len(d2)\n",
    "print(n2)"
   ]
  },
  {
   "cell_type": "markdown",
   "metadata": {},
   "source": [
    "Assign to variables s1 and s2 the standard deviations of d1 and d2, respectively. Use the methods already included with numpy array. Note that you need to pass the argument Delta Degrees of Freedom (ddof) with value equal to one."
   ]
  },
  {
   "cell_type": "code",
   "execution_count": 16,
   "metadata": {},
   "outputs": [
    {
     "name": "stdout",
     "output_type": "stream",
     "text": [
      "1.0873181910678587\n"
     ]
    }
   ],
   "source": [
    "# finding the standard deviation of d1 with 1 degree of freedom\n",
    "s1 = np.std(d1,ddof=1)\n",
    "print(s1)"
   ]
  },
  {
   "cell_type": "code",
   "execution_count": 17,
   "metadata": {},
   "outputs": [
    {
     "name": "stdout",
     "output_type": "stream",
     "text": [
      "1.0369966017451222\n"
     ]
    }
   ],
   "source": [
    "# finding the standard deviation of d2 with 1 degree of freedom\n",
    "s2 = np.std(d2,ddof=1)\n",
    "print(s2)"
   ]
  },
  {
   "cell_type": "markdown",
   "metadata": {},
   "source": [
    "Compute the $t$-statistics following the formula for $t$ shown above, use the values previously computed."
   ]
  },
  {
   "cell_type": "code",
   "execution_count": 18,
   "metadata": {},
   "outputs": [
    {
     "name": "stdout",
     "output_type": "stream",
     "text": [
      "0.19673006785551045\n"
     ]
    }
   ],
   "source": [
    "# computing the t-statistics\n",
    "t_stat = (m1-m2)/(np.sqrt(((s1**2)/n1)+((s2**2)/n2)))\n",
    "print(t_stat)"
   ]
  },
  {
   "cell_type": "markdown",
   "metadata": {},
   "source": [
    "Differences between means from samples of normally distributted data follow a particular distribution known as the student t-distribution. With that information, we are ready to calculate the p-value, which answers the question: \"If the null hypothesis is true, what is the probability that we'd observe a more extreme test statistic in the direction of the alternative hypothesis than we did?\"<br/>\n",
    "\n",
    "In a nuttshell we are looking to compute the probabilities of all events that lie outside the interval defined by \\[-t,t[ of the student t-distribution. The figure bellow illustrates this,\n",
    "![title](figure1.png)\n",
    "the x-axis depicts the t-statistics, and the curve illustrates the shape of the student t-distribution.\n",
    "From Scipy stats module you can find a method $t$ to evalute the t-distribution. Check the documentation https://tinyurl.com/yc4xd2hb. The t-distribution has a bell shape, similar to the normal distribution, however values are less concentrated around the peak. The t-distribution arguments are the mean and the degrees of freedom (df).<br/>\n",
    "\n",
    "Hence, our task would require us to perform an integration over $t$ to find the p-value. Note that, since we are dealing with a probability distribution, by definition an integration of the t-distribution over the entire domain of t equals 1. An alternative and easier approach is to use the Cumulative Distribution Function (cdf) of the student t-distribution. <br />\n",
    "\n",
    "A CDF, in abstract, returns the probability that X will take a value less than or equal to x. Hence, by evaluating the CDF of the t-distribution at t we will get the probability we'd observe an event that conforms with the null hypothesis. Subtracting this value to one will return the one-tailed p-value, the two-tailed, which is the one we are looking for, is twice that value.<br/>\n",
    "\\begin{equation}\n",
    "    p\\text{-value} = 2 \\times (1 - T_{\\text{CDF}}(abs(t_stat), df))\n",
    "\\end{equation}\n",
    "\n",
    "where abs(x) is the absolute value of x, df are the degrees of freedom, and $T_{\\text{CDF}}$ represents the Cumulative Distribution Function of the t-distribution.<br />\n",
    "\n",
    "Scipy makes our task simple, as probability distributions have included the method cdf. See the documentation  https://tinyurl.com/yaake63s. "
   ]
  },
  {
   "cell_type": "markdown",
   "metadata": {},
   "source": [
    "Start by computing the the number of degrees of freedom ($df$), which are given by \n",
    "\n",
    "\\begin{equation}\n",
    "    df = n_1 + n_2 - 2\n",
    "\\end{equation}"
   ]
  },
  {
   "cell_type": "code",
   "execution_count": 19,
   "metadata": {},
   "outputs": [
    {
     "name": "stdout",
     "output_type": "stream",
     "text": [
      "98\n"
     ]
    }
   ],
   "source": [
    "df = n1 + n2 - 2\n",
    "print(df)"
   ]
  },
  {
   "cell_type": "markdown",
   "metadata": {},
   "source": [
    "Finally we need to estimate the p-value, save it in variable p-value"
   ]
  },
  {
   "cell_type": "code",
   "execution_count": 20,
   "metadata": {},
   "outputs": [
    {
     "name": "stdout",
     "output_type": "stream",
     "text": [
      "0.8444461923040681\n"
     ]
    }
   ],
   "source": [
    "p = stats.t.sf(np.abs(t_stat), df)*2\n",
    "print(p)"
   ]
  },
  {
   "cell_type": "markdown",
   "metadata": {},
   "source": [
    "Scipy already includes a function that performs the t-test that we have done step by step in this homework assignment. See the documentation of Scipy two sample t-test at  https://docs.scipy.org/doc/scipy/reference/generated/scipy.stats.ttest_ind.html. In the cell bellow repeat the t-test using the Scipy method, and compare the obtained p-values."
   ]
  },
  {
   "cell_type": "code",
   "execution_count": 21,
   "metadata": {},
   "outputs": [
    {
     "data": {
      "text/plain": [
       "Ttest_indResult(statistic=0.19673006785551048, pvalue=0.8444461923040681)"
      ]
     },
     "execution_count": 21,
     "metadata": {},
     "output_type": "execute_result"
    }
   ],
   "source": [
    "stats.ttest_ind(d1,d2)"
   ]
  },
  {
   "cell_type": "markdown",
   "metadata": {},
   "source": [
    "Finally, write down a function named twosample_ttest that takes two samples of the same size and returns the p-value, the t-statistics, and the degrees of freedom using all the code you implemented above. Note that if the samples are of different size you should return an error."
   ]
  },
  {
   "cell_type": "code",
   "execution_count": 22,
   "metadata": {},
   "outputs": [],
   "source": [
    "def twosample_ttest(dist1,dist2):\n",
    "    #write your code here\n",
    "    \"\"\"This function takes 2 arrays with the same size as arguement\n",
    "    and calculate a t-test. It returns the p-value, t-stattistics and degree of freedom.\n",
    "    It will return an error is the 2 input array aren't the same size\"\"\"\n",
    "    if not (np.prod(dist1.shape) == np.prod(dist2.shape)):\n",
    "        return \"error: Ensure your 2 input array are the same size\"\n",
    "    else:\n",
    "        t = ((np.mean(dist1))-(np.mean(dist2)))/(np.sqrt((((np.std(dist1,ddof=1))**2)/(len(dist1)))+(((np.std(dist2,ddof=1))**2)/(len(dist2)))))\n",
    "        df = (len(dist1)) + (len(dist2)) - 2\n",
    "        p = stats.t.sf(np.abs(t), df)*2\n",
    "        return {\"p-value\": p, \"t-statistics\":t, \"df\": df}"
   ]
  },
  {
   "cell_type": "markdown",
   "metadata": {},
   "source": [
    "test your function bellow, for two random data with same size and standard deviation, but different means sets samples from a normal distribution."
   ]
  },
  {
   "cell_type": "code",
   "execution_count": 23,
   "metadata": {},
   "outputs": [
    {
     "data": {
      "text/plain": [
       "{'p-value': 0.7640594707496929, 't-statistics': -0.3015687282100394, 'df': 58}"
      ]
     },
     "execution_count": 23,
     "metadata": {},
     "output_type": "execute_result"
    }
   ],
   "source": [
    "# To test the function created calculate the t-statistics of 2 arrays\n",
    "\n",
    "# create first array as test1\n",
    "test1 = stats.norm.rvs(loc=0.72, scale=1.0, size=30)\n",
    "\n",
    "#create second array as test2\n",
    "test2 = stats.norm.rvs(loc=0.72, scale=1.0, size=30)\n",
    "\n",
    "# using the twosample_ttest function to calculate he t-stats and p-palue\n",
    "twosample_ttest(test1,test2)"
   ]
  },
  {
   "cell_type": "code",
   "execution_count": null,
   "metadata": {},
   "outputs": [],
   "source": []
  }
 ],
 "metadata": {
  "kernelspec": {
   "display_name": "Python 3",
   "language": "python",
   "name": "python3"
  },
  "language_info": {
   "codemirror_mode": {
    "name": "ipython",
    "version": 3
   },
   "file_extension": ".py",
   "mimetype": "text/x-python",
   "name": "python",
   "nbconvert_exporter": "python",
   "pygments_lexer": "ipython3",
   "version": "3.6.5"
  }
 },
 "nbformat": 4,
 "nbformat_minor": 2
}
